{
 "cells": [
  {
   "cell_type": "code",
   "execution_count": 8,
   "metadata": {},
   "outputs": [],
   "source": [
    "import sqlite3\n",
    "import pandas as pd"
   ]
  },
  {
   "cell_type": "markdown",
   "metadata": {},
   "source": [
    "## Importing Categorized data"
   ]
  },
  {
   "cell_type": "code",
   "execution_count": 9,
   "metadata": {},
   "outputs": [],
   "source": [
    "csv_path_2320 = './data/categorizedData/TransaccionesBAC.Transacciones_Tarjeta_Colones_2320.csv'\n",
    "csv_path_3193 = './data/categorizedData/TransaccionesBAC.Transacciones_Tarjeta_Dolares_3193.csv'\n",
    "\n",
    "csv_2320 = pd.read_csv(csv_path_2320, encoding='latin1', delimiter=';')\n",
    "csv_3193 = pd.read_csv(csv_path_3193, encoding='latin1', delimiter=';')"
   ]
  },
  {
   "cell_type": "markdown",
   "metadata": {},
   "source": [
    "## Updating the tables with the new data categorized"
   ]
  },
  {
   "cell_type": "code",
   "execution_count": 10,
   "metadata": {},
   "outputs": [],
   "source": [
    "db_path = './data/dbs/TransaccionesBAC.db'\n",
    "\n",
    "conn = sqlite3.connect(db_path)\n",
    "\n",
    "def update_table_with_csv_reference(table_name, csv_data, conn):\n",
    "    cursor = conn.cursor()\n",
    "    \n",
    "    cursor.execute(f\"PRAGMA table_info({table_name})\")\n",
    "    columns = [info[1] for info in cursor.fetchall()]\n",
    "    if \"Category\" not in columns:\n",
    "        cursor.execute(f\"ALTER TABLE {table_name} ADD COLUMN Category TEXT\")\n",
    "    if \"SubCategory\" not in columns:\n",
    "        cursor.execute(f\"ALTER TABLE {table_name} ADD COLUMN SubCategory TEXT\")\n",
    "    \n",
    "    for _, row in csv_data.iterrows():\n",
    "        cursor.execute(f\"\"\"\n",
    "            UPDATE {table_name}\n",
    "            SET Category = ?, SubCategory = ?\n",
    "            WHERE Transaction_Reference = ?\n",
    "        \"\"\", (row['Category'], row['SubCategory'], row['Transaction Reference']))\n",
    "    \n",
    "    conn.commit()\n",
    "    cursor.close()\n",
    "\n",
    "update_table_with_csv_reference(\"Transacciones_Tarjeta_Debito_2320\", csv_2320, conn)\n",
    "update_table_with_csv_reference(\"Transacciones_Tarjeta_Debito_3193\", csv_3193, conn)\n",
    "\n",
    "conn.close()"
   ]
  },
  {
   "cell_type": "markdown",
   "metadata": {},
   "source": [
    "## Data Consulting"
   ]
  },
  {
   "cell_type": "code",
   "execution_count": 11,
   "metadata": {},
   "outputs": [],
   "source": [
    "conn = sqlite3.connect(db_path)\n",
    "\n",
    "cursor = conn.cursor()\n",
    "cursor.execute(\"SELECT name FROM sqlite_master WHERE type='table';\")\n",
    "tables = cursor.fetchall()\n",
    "\n",
    "cursor.close()"
   ]
  },
  {
   "cell_type": "code",
   "execution_count": 12,
   "metadata": {},
   "outputs": [],
   "source": [
    "dataframes = {}\n",
    "\n",
    "for table in tables:\n",
    "    table_name = table[0]\n",
    "    if table_name != \"sqlite_sequence\":\n",
    "        query = f\"SELECT * FROM {table_name}\"\n",
    "        df = pd.read_sql_query(query, conn)\n",
    "        dataframes[table_name] = df\n",
    "\n",
    "conn.close()\n",
    "\n",
    "#dataframes.keys()"
   ]
  },
  {
   "cell_type": "code",
   "execution_count": 13,
   "metadata": {},
   "outputs": [],
   "source": [
    "debito_2320 = dataframes['Transacciones_Tarjeta_Debito_2320']\n",
    "debito_3193 = dataframes['Transacciones_Tarjeta_Debito_3193']\n",
    "\n",
    "credito_0243 = dataframes['Transacciones_Tarjeta_Credito_0243']\n",
    "credito_3959 = dataframes['Transacciones_Tarjeta_Credito_3959']"
   ]
  },
  {
   "cell_type": "code",
   "execution_count": null,
   "metadata": {},
   "outputs": [],
   "source": []
  }
 ],
 "metadata": {
  "kernelspec": {
   "display_name": "BAC-CR-Transaction-Analyzer",
   "language": "python",
   "name": "python3"
  },
  "language_info": {
   "codemirror_mode": {
    "name": "ipython",
    "version": 3
   },
   "file_extension": ".py",
   "mimetype": "text/x-python",
   "name": "python",
   "nbconvert_exporter": "python",
   "pygments_lexer": "ipython3",
   "version": "3.13.1"
  }
 },
 "nbformat": 4,
 "nbformat_minor": 2
}
